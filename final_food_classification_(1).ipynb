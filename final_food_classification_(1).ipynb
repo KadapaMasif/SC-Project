{
  "metadata": {
    "kernelspec": {
      "display_name": "Python 3",
      "language": "python",
      "name": "python3"
    },
    "language_info": {
      "name": "python",
      "version": "3.10.14",
      "mimetype": "text/x-python",
      "codemirror_mode": {
        "name": "ipython",
        "version": 3
      },
      "pygments_lexer": "ipython3",
      "nbconvert_exporter": "python",
      "file_extension": ".py"
    },
    "accelerator": "GPU",
    "colab": {
      "gpuType": "T4",
      "provenance": []
    },
    "kaggle": {
      "accelerator": "none",
      "dataSources": [
        {
          "sourceId": 1923965,
          "sourceType": "datasetVersion",
          "datasetId": 1147479
        },
        {
          "sourceId": 9842416,
          "sourceType": "datasetVersion",
          "datasetId": 6038208
        },
        {
          "sourceId": 9842429,
          "sourceType": "datasetVersion",
          "datasetId": 6038221
        },
        {
          "sourceId": 9842444,
          "sourceType": "datasetVersion",
          "datasetId": 6038232
        },
        {
          "sourceId": 9842466,
          "sourceType": "datasetVersion",
          "datasetId": 6038250
        },
        {
          "sourceId": 9842629,
          "sourceType": "datasetVersion",
          "datasetId": 6038380
        },
        {
          "sourceId": 159795,
          "sourceType": "modelInstanceVersion",
          "isSourceIdPinned": true,
          "modelInstanceId": 135850,
          "modelId": 158578
        }
      ],
      "isInternetEnabled": false,
      "language": "python",
      "sourceType": "notebook",
      "isGpuEnabled": false
    }
  },
  "nbformat_minor": 0,
  "nbformat": 4,
  "cells": [
    {
      "cell_type": "code",
      "source": [
        "import numpy as np\n",
        "import os\n",
        "import matplotlib.pyplot as plt\n",
        "from tensorflow.keras.preprocessing.image import ImageDataGenerator\n",
        "from tensorflow.keras.applications import MobileNetV2\n",
        "from tensorflow.keras.models import Sequential\n",
        "from tensorflow.keras.layers import Dense, GlobalAveragePooling2D, Dropout\n",
        "from tensorflow.keras.optimizers import Adam\n",
        "from tensorflow.keras.callbacks import EarlyStopping"
      ],
      "metadata": {
        "id": "MRdAgCaCv8_L",
        "execution": {
          "iopub.status.busy": "2024-11-08T10:20:09.724407Z",
          "iopub.execute_input": "2024-11-08T10:20:09.724922Z",
          "iopub.status.idle": "2024-11-08T10:20:24.960862Z",
          "shell.execute_reply.started": "2024-11-08T10:20:09.724862Z",
          "shell.execute_reply": "2024-11-08T10:20:24.959838Z"
        },
        "trusted": true
      },
      "outputs": [],
      "execution_count": null
    },
    {
      "cell_type": "code",
      "source": [
        "# Define path to dataset\n",
        "data_dir = \"/kaggle/input/indian-food-classification/Food Classification\""
      ],
      "metadata": {
        "id": "zCpp8eNBv8_N",
        "execution": {
          "iopub.status.busy": "2024-11-08T10:13:06.867498Z",
          "iopub.execute_input": "2024-11-08T10:13:06.868555Z",
          "iopub.status.idle": "2024-11-08T10:13:06.874105Z",
          "shell.execute_reply.started": "2024-11-08T10:13:06.868514Z",
          "shell.execute_reply": "2024-11-08T10:13:06.872664Z"
        },
        "trusted": true
      },
      "outputs": [],
      "execution_count": null
    },
    {
      "cell_type": "code",
      "source": [
        "# Define image size and batch size\n",
        "image_size = (160, 160)  # Increase to 160x160 for better feature learning\n",
        "batch_size = 32"
      ],
      "metadata": {
        "execution": {
          "iopub.status.busy": "2024-11-08T10:13:09.332163Z",
          "iopub.execute_input": "2024-11-08T10:13:09.332593Z",
          "iopub.status.idle": "2024-11-08T10:13:09.338324Z",
          "shell.execute_reply.started": "2024-11-08T10:13:09.332559Z",
          "shell.execute_reply": "2024-11-08T10:13:09.337135Z"
        },
        "trusted": true,
        "id": "qsw416rEQSCc"
      },
      "outputs": [],
      "execution_count": null
    },
    {
      "cell_type": "code",
      "source": [
        "# Data augmentation and preprocessing\n",
        "train_datagen = ImageDataGenerator(\n",
        "    rescale=1.0/255,\n",
        "    validation_split=0.2,  # 80-20 split for training and validation\n",
        "    rotation_range=20,\n",
        "    width_shift_range=0.2,\n",
        "    height_shift_range=0.2,\n",
        "    shear_range=0.2,\n",
        "    zoom_range=0.2,\n",
        "    horizontal_flip=True\n",
        ")"
      ],
      "metadata": {
        "id": "wbdMnRDkv8_P",
        "execution": {
          "iopub.status.busy": "2024-11-08T10:13:11.836799Z",
          "iopub.execute_input": "2024-11-08T10:13:11.837635Z",
          "iopub.status.idle": "2024-11-08T10:13:11.844249Z",
          "shell.execute_reply.started": "2024-11-08T10:13:11.837591Z",
          "shell.execute_reply": "2024-11-08T10:13:11.843126Z"
        },
        "trusted": true
      },
      "outputs": [],
      "execution_count": null
    },
    {
      "cell_type": "code",
      "source": [
        "# Create training and validation generators\n",
        "train_generator = train_datagen.flow_from_directory(\n",
        "    data_dir,\n",
        "    target_size=image_size,\n",
        "    batch_size=batch_size,\n",
        "    class_mode='categorical',\n",
        "    subset='training'  # Set as training data\n",
        ")\n",
        "\n",
        "validation_generator = train_datagen.flow_from_directory(\n",
        "    data_dir,\n",
        "    target_size=image_size,\n",
        "    batch_size=batch_size,\n",
        "    class_mode='categorical',\n",
        "    subset='validation'  # Set as validation data\n",
        ")\n"
      ],
      "metadata": {
        "id": "sdSHi8Gnv8_P",
        "execution": {
          "iopub.status.busy": "2024-11-08T10:13:15.025366Z",
          "iopub.execute_input": "2024-11-08T10:13:15.025798Z",
          "iopub.status.idle": "2024-11-08T10:13:15.514115Z",
          "shell.execute_reply.started": "2024-11-08T10:13:15.025765Z",
          "shell.execute_reply": "2024-11-08T10:13:15.512960Z"
        },
        "trusted": true
      },
      "outputs": [],
      "execution_count": null
    },
    {
      "cell_type": "code",
      "source": [
        "from tensorflow.keras.applications import MobileNetV2\n",
        "\n",
        "# Specify the path to the weights file\n",
        "weights_path = '/kaggle/input/h5/pytorch/default/1/mobilenet_v2_weights_tf_dim_ordering_tf_kernels_1.0_160_no_top.h5'\n",
        "\n",
        "# Load MobileNetV2 with the local weights, excluding the top layers\n",
        "base_model = MobileNetV2(weights=weights_path, include_top=False, input_shape=(160, 160, 3))\n"
      ],
      "metadata": {
        "execution": {
          "iopub.status.busy": "2024-11-08T10:13:17.940692Z",
          "iopub.execute_input": "2024-11-08T10:13:17.941128Z",
          "iopub.status.idle": "2024-11-08T10:13:19.295658Z",
          "shell.execute_reply.started": "2024-11-08T10:13:17.941096Z",
          "shell.execute_reply": "2024-11-08T10:13:19.294423Z"
        },
        "trusted": true,
        "id": "Ah2tqKfvQSCd"
      },
      "outputs": [],
      "execution_count": null
    },
    {
      "cell_type": "code",
      "source": [
        "# Freeze the base model to retain pre-trained weights during initial training\n",
        "base_model.trainable = False"
      ],
      "metadata": {
        "id": "DSw-LZqPv8_Q",
        "execution": {
          "iopub.status.busy": "2024-11-08T10:13:25.908822Z",
          "iopub.execute_input": "2024-11-08T10:13:25.909281Z",
          "iopub.status.idle": "2024-11-08T10:13:25.919918Z",
          "shell.execute_reply.started": "2024-11-08T10:13:25.909249Z",
          "shell.execute_reply": "2024-11-08T10:13:25.918528Z"
        },
        "trusted": true
      },
      "outputs": [],
      "execution_count": null
    },
    {
      "cell_type": "code",
      "source": [
        "# Add custom layers on top\n",
        "model = Sequential([\n",
        "    base_model,\n",
        "    GlobalAveragePooling2D(),\n",
        "    Dense(256, activation='relu'),\n",
        "    Dropout(0.5),\n",
        "    Dense(train_generator.num_classes, activation='softmax')\n",
        "])"
      ],
      "metadata": {
        "trusted": true,
        "execution": {
          "iopub.status.busy": "2024-11-08T10:13:28.918538Z",
          "iopub.execute_input": "2024-11-08T10:13:28.918990Z",
          "iopub.status.idle": "2024-11-08T10:13:28.936499Z",
          "shell.execute_reply.started": "2024-11-08T10:13:28.918957Z",
          "shell.execute_reply": "2024-11-08T10:13:28.935006Z"
        },
        "id": "bIUuouj-QSCd"
      },
      "outputs": [],
      "execution_count": null
    },
    {
      "cell_type": "code",
      "source": [
        "# Compile the model\n",
        "model.compile(optimizer=Adam(learning_rate=0.001),\n",
        "              loss='categorical_crossentropy',\n",
        "              metrics=['accuracy'])\n"
      ],
      "metadata": {
        "trusted": true,
        "execution": {
          "iopub.status.busy": "2024-11-08T10:13:31.986990Z",
          "iopub.execute_input": "2024-11-08T10:13:31.987393Z",
          "iopub.status.idle": "2024-11-08T10:13:32.000307Z",
          "shell.execute_reply.started": "2024-11-08T10:13:31.987363Z",
          "shell.execute_reply": "2024-11-08T10:13:31.998748Z"
        },
        "id": "gUOzgYGZQSCd"
      },
      "outputs": [],
      "execution_count": null
    },
    {
      "cell_type": "code",
      "source": [
        "# Set up early stopping\n",
        "early_stopping = EarlyStopping(monitor='val_loss', patience=5, restore_best_weights=True)\n"
      ],
      "metadata": {
        "trusted": true,
        "execution": {
          "iopub.status.busy": "2024-11-08T10:14:22.307845Z",
          "iopub.execute_input": "2024-11-08T10:14:22.308763Z",
          "iopub.status.idle": "2024-11-08T10:14:22.315400Z",
          "shell.execute_reply.started": "2024-11-08T10:14:22.308727Z",
          "shell.execute_reply": "2024-11-08T10:14:22.314131Z"
        },
        "id": "Q6el--CaQSCe"
      },
      "outputs": [],
      "execution_count": null
    },
    {
      "cell_type": "code",
      "source": [
        "# Initial training with frozen base model\n",
        "history = model.fit(\n",
        "    train_generator,\n",
        "    epochs=10,\n",
        "    validation_data=validation_generator,\n",
        "    callbacks=[early_stopping]\n",
        ")\n"
      ],
      "metadata": {
        "trusted": true,
        "execution": {
          "iopub.status.busy": "2024-11-08T10:14:27.967020Z",
          "iopub.execute_input": "2024-11-08T10:14:27.967454Z"
        },
        "id": "Ft4Hd96IQSCe"
      },
      "outputs": [],
      "execution_count": null
    },
    {
      "cell_type": "code",
      "source": [
        "# Evaluate the model on validation data\n",
        "loss, accuracy = model.evaluate(validation_generator)\n",
        "print(f\"Validation Loss: {loss}\")\n",
        "print(f\"Validation Accuracy: {accuracy}\")\n"
      ],
      "metadata": {
        "trusted": true,
        "execution": {
          "iopub.status.busy": "2024-11-08T10:03:46.449383Z",
          "iopub.execute_input": "2024-11-08T10:03:46.449864Z",
          "iopub.status.idle": "2024-11-08T10:04:33.377209Z",
          "shell.execute_reply.started": "2024-11-08T10:03:46.449829Z",
          "shell.execute_reply": "2024-11-08T10:04:33.375965Z"
        },
        "id": "SVzEdO3vQSCe"
      },
      "outputs": [],
      "execution_count": null
    },
    {
      "cell_type": "code",
      "source": [
        "# Unfreeze some layers of the base model for fine-tuning\n",
        "for layer in base_model.layers[-30:]:  # Unfreeze last 30 layers\n",
        "    layer.trainable = True"
      ],
      "metadata": {
        "trusted": true,
        "execution": {
          "iopub.status.busy": "2024-11-08T08:28:27.597997Z",
          "iopub.execute_input": "2024-11-08T08:28:27.598397Z",
          "iopub.status.idle": "2024-11-08T08:28:27.606515Z",
          "shell.execute_reply.started": "2024-11-08T08:28:27.598368Z",
          "shell.execute_reply": "2024-11-08T08:28:27.605094Z"
        },
        "id": "Ww9NArXcQSCf"
      },
      "outputs": [],
      "execution_count": null
    },
    {
      "cell_type": "code",
      "source": [
        "# Recompile the model with a lower learning rate for fine-tuning\n",
        "model.compile(optimizer=Adam(learning_rate=1e-5),\n",
        "              loss='categorical_crossentropy',\n",
        "              metrics=['accuracy'])"
      ],
      "metadata": {
        "trusted": true,
        "execution": {
          "iopub.status.busy": "2024-11-08T08:28:53.068810Z",
          "iopub.execute_input": "2024-11-08T08:28:53.069279Z",
          "iopub.status.idle": "2024-11-08T08:28:53.081839Z",
          "shell.execute_reply.started": "2024-11-08T08:28:53.069243Z",
          "shell.execute_reply": "2024-11-08T08:28:53.080814Z"
        },
        "id": "NRUJkw-IQSCf"
      },
      "outputs": [],
      "execution_count": null
    },
    {
      "cell_type": "code",
      "source": [
        "# Fine-tune the model\n",
        "fine_tune_history = model.fit(\n",
        "    train_generator,\n",
        "    epochs=10,\n",
        "    validation_data=validation_generator,\n",
        "    callbacks=[early_stopping]\n",
        ")\n"
      ],
      "metadata": {
        "trusted": true,
        "execution": {
          "iopub.status.busy": "2024-11-08T08:29:13.218645Z",
          "iopub.execute_input": "2024-11-08T08:29:13.219073Z",
          "iopub.status.idle": "2024-11-08T09:02:56.933436Z",
          "shell.execute_reply.started": "2024-11-08T08:29:13.219040Z",
          "shell.execute_reply": "2024-11-08T09:02:56.931841Z"
        },
        "id": "LWdWE4vMQSCf"
      },
      "outputs": [],
      "execution_count": null
    },
    {
      "cell_type": "code",
      "source": [
        "# Evaluate the model on validation data\n",
        "loss, accuracy = model.evaluate(validation_generator)\n",
        "print(f\"Validation Loss: {loss}\")\n",
        "print(f\"Validation Accuracy: {accuracy}\")\n"
      ],
      "metadata": {
        "trusted": true,
        "execution": {
          "iopub.status.busy": "2024-11-08T10:06:41.598075Z",
          "iopub.execute_input": "2024-11-08T10:06:41.598504Z",
          "iopub.status.idle": "2024-11-08T10:07:26.020508Z",
          "shell.execute_reply.started": "2024-11-08T10:06:41.598470Z",
          "shell.execute_reply": "2024-11-08T10:07:26.019304Z"
        },
        "id": "dmXsjCEbQSCf"
      },
      "outputs": [],
      "execution_count": null
    },
    {
      "cell_type": "code",
      "source": [
        "# Plot training history\n",
        "plt.figure(figsize=(12, 4))\n",
        "\n",
        "plt.subplot(1, 2, 1)\n",
        "plt.plot(history.history['accuracy'], label='Train Accuracy')\n",
        "plt.plot(history.history['val_accuracy'], label='Validation Accuracy')\n",
        "plt.plot(fine_tune_history.history['accuracy'], label='Fine-tune Train Accuracy')\n",
        "plt.plot(fine_tune_history.history['val_accuracy'], label='Fine-tune Validation Accuracy')\n",
        "plt.xlabel('Epochs')\n",
        "plt.ylabel('Accuracy')\n",
        "plt.legend()\n",
        "plt.title('Training and Validation Accuracy')\n",
        "\n",
        "plt.subplot(1, 2, 2)\n",
        "plt.plot(history.history['loss'], label='Train Loss')\n",
        "plt.plot(history.history['val_loss'], label='Validation Loss')\n",
        "plt.plot(fine_tune_history.history['loss'], label='Fine-tune Train Loss')\n",
        "plt.plot(fine_tune_history.history['val_loss'], label='Fine-tune Validation Loss')\n",
        "plt.xlabel('Epochs')\n",
        "plt.ylabel('Loss')\n",
        "plt.legend()\n",
        "plt.title('Training and Validation Loss')\n",
        "\n",
        "plt.show()"
      ],
      "metadata": {
        "id": "83jvSTXOv8_Q",
        "execution": {
          "iopub.status.busy": "2024-11-08T09:04:54.676228Z",
          "iopub.execute_input": "2024-11-08T09:04:54.676657Z",
          "iopub.status.idle": "2024-11-08T09:04:55.369966Z",
          "shell.execute_reply.started": "2024-11-08T09:04:54.676621Z",
          "shell.execute_reply": "2024-11-08T09:04:55.368464Z"
        },
        "trusted": true
      },
      "outputs": [],
      "execution_count": null
    },
    {
      "cell_type": "code",
      "source": [
        "from tensorflow.keras.preprocessing import image\n",
        "import numpy as np\n",
        "\n",
        "# Function to load and preprocess a single image\n",
        "def prepare_image(img_path, target_size=(160, 160)):\n",
        "    img = image.load_img(img_path, target_size=target_size)\n",
        "    img_array = image.img_to_array(img)\n",
        "    img_array = np.expand_dims(img_array, axis=0)  # Add batch dimension\n",
        "    img_array /= 255.0  # Normalize\n",
        "    return img_array\n",
        "\n",
        "# Path to a new test image\n",
        "img_path = '/kaggle/input/kqaaaaat/kat.jpg'\n",
        "\n",
        "# Prepare the image\n",
        "img = prepare_image(img_path)\n",
        "\n",
        "# Make prediction\n",
        "predictions = model.predict(img)\n",
        "predicted_class = np.argmax(predictions)  # Index of the highest probability class\n",
        "print(f\"Predicted Class Index: {predicted_class}\")\n"
      ],
      "metadata": {
        "trusted": true,
        "execution": {
          "iopub.status.busy": "2024-11-08T10:00:09.586308Z",
          "iopub.execute_input": "2024-11-08T10:00:09.586751Z",
          "iopub.status.idle": "2024-11-08T10:00:09.731846Z",
          "shell.execute_reply.started": "2024-11-08T10:00:09.586718Z",
          "shell.execute_reply": "2024-11-08T10:00:09.730686Z"
        },
        "id": "ke17XYhBQSCg"
      },
      "outputs": [],
      "execution_count": null
    },
    {
      "cell_type": "code",
      "source": [
        "# Assuming the prediction code is similar to this:\n",
        "predictions = model.predict(img)\n",
        "predicted_class_index = np.argmax(predictions)  # Index of the highest probability class\n",
        "\n",
        "# Map the predicted index to the class name using the class_indices\n",
        "class_indices = train_generator.class_indices\n",
        "class_labels = {v: k for k, v in class_indices.items()}  # Reverse the dictionary to map index to label\n",
        "\n",
        "# Get the predicted class name\n",
        "predicted_class_name = class_labels[predicted_class_index]\n",
        "print(f\"Predicted Food Class: {predicted_class_name}\")\n"
      ],
      "metadata": {
        "trusted": true,
        "execution": {
          "iopub.status.busy": "2024-11-08T10:00:11.494183Z",
          "iopub.execute_input": "2024-11-08T10:00:11.495406Z",
          "iopub.status.idle": "2024-11-08T10:00:11.607034Z",
          "shell.execute_reply.started": "2024-11-08T10:00:11.495370Z",
          "shell.execute_reply": "2024-11-08T10:00:11.604920Z"
        },
        "id": "DzngtmOtQSCg"
      },
      "outputs": [],
      "execution_count": null
    },
    {
      "cell_type": "code",
      "source": [
        "# Save the model\n",
        "model_save_path = '/kaggle/working/food_classification_model.h5'\n",
        "model.save(model_save_path)\n",
        "print(f\"Model saved to {model_save_path}\")\n"
      ],
      "metadata": {
        "trusted": true,
        "id": "fDti3dJ4QSCg"
      },
      "outputs": [],
      "execution_count": null
    },
    {
      "cell_type": "code",
      "source": [
        "from tensorflow.keras.models import load_model\n",
        "\n",
        "# Load the saved model\n",
        "loaded_model = load_model('/content/food_classification_model.h5')"
      ],
      "metadata": {
        "colab": {
          "base_uri": "https://localhost:8080/"
        },
        "id": "yyzG6WVKQxTm",
        "outputId": "7be88cc3-4d63-49a5-87db-b2ded191d766"
      },
      "execution_count": 5,
      "outputs": [
        {
          "output_type": "stream",
          "name": "stderr",
          "text": [
            "WARNING:absl:Compiled the loaded model, but the compiled metrics have yet to be built. `model.compile_metrics` will be empty until you train or evaluate the model.\n"
          ]
        }
      ]
    },
    {
      "cell_type": "code",
      "source": [
        "from tensorflow.keras.preprocessing import image\n",
        "import numpy as np\n",
        "\n",
        "# Function to load and preprocess a single image\n",
        "def prepare_image(img_path, target_size=(160, 160)):\n",
        "    img = image.load_img(img_path, target_size=target_size)\n",
        "    img_array = image.img_to_array(img)\n",
        "    img_array = np.expand_dims(img_array, axis=0)  # Add batch dimension\n",
        "    img_array /= 255.0  # Normalize\n",
        "    return img_array\n",
        "\n",
        "# Path to a new test image\n",
        "img_path = '/content/7f50fc7a906cade219ee211200f3fc48.jpg'\n",
        "\n",
        "# Prepare the image\n",
        "img = prepare_image(img_path)\n",
        "\n",
        "# Make prediction\n",
        "predictions = loaded_model.predict(img)\n",
        "predicted_class = np.argmax(predictions)  # Index of the highest probability class\n",
        "print(f\"Predicted Class Index: {predicted_class}\")\n"
      ],
      "metadata": {
        "colab": {
          "base_uri": "https://localhost:8080/"
        },
        "id": "6J0ASm4DS_dC",
        "outputId": "ba755b08-143a-44e9-945b-0e381cd6e208"
      },
      "execution_count": 7,
      "outputs": [
        {
          "output_type": "stream",
          "name": "stdout",
          "text": [
            "\u001b[1m1/1\u001b[0m \u001b[32m━━━━━━━━━━━━━━━━━━━━\u001b[0m\u001b[37m\u001b[0m \u001b[1m4s\u001b[0m 4s/step\n",
            "Predicted Class Index: 4\n"
          ]
        }
      ]
    },
    {
      "cell_type": "code",
      "source": [
        "pip install scikit-fuzzy"
      ],
      "metadata": {
        "colab": {
          "base_uri": "https://localhost:8080/"
        },
        "id": "GdwuKM4OTXPa",
        "outputId": "0643ff60-50b4-445d-8d3b-bef688cecb09"
      },
      "execution_count": 9,
      "outputs": [
        {
          "output_type": "stream",
          "name": "stdout",
          "text": [
            "Collecting scikit-fuzzy\n",
            "  Downloading scikit_fuzzy-0.5.0-py2.py3-none-any.whl.metadata (2.6 kB)\n",
            "Downloading scikit_fuzzy-0.5.0-py2.py3-none-any.whl (920 kB)\n",
            "\u001b[?25l   \u001b[90m━━━━━━━━━━━━━━━━━━━━━━━━━━━━━━━━━━━━━━━━\u001b[0m \u001b[32m0.0/920.8 kB\u001b[0m \u001b[31m?\u001b[0m eta \u001b[36m-:--:--\u001b[0m\r\u001b[2K   \u001b[91m━━━━━━━━━━━━\u001b[0m\u001b[90m╺\u001b[0m\u001b[90m━━━━━━━━━━━━━━━━━━━━━━━━━━━\u001b[0m \u001b[32m286.7/920.8 kB\u001b[0m \u001b[31m8.4 MB/s\u001b[0m eta \u001b[36m0:00:01\u001b[0m\r\u001b[2K   \u001b[90m━━━━━━━━━━━━━━━━━━━━━━━━━━━━━━━━━━━━━━━━\u001b[0m \u001b[32m920.8/920.8 kB\u001b[0m \u001b[31m14.9 MB/s\u001b[0m eta \u001b[36m0:00:00\u001b[0m\n",
            "\u001b[?25hInstalling collected packages: scikit-fuzzy\n",
            "Successfully installed scikit-fuzzy-0.5.0\n"
          ]
        }
      ]
    },
    {
      "cell_type": "code",
      "source": [
        "import skfuzzy as fuzz\n",
        "from skfuzzy import control as ctrl\n",
        "\n",
        "# Define fuzzy variables\n",
        "prob1 = ctrl.Antecedent(np.arange(0, 1.1, 0.1), 'prob1')\n",
        "prob2 = ctrl.Antecedent(np.arange(0, 1.1, 0.1), 'prob2')\n",
        "confidence = ctrl.Consequent(np.arange(0, 1.1, 0.1), 'confidence')\n",
        "\n",
        "# Membership functions\n",
        "prob1['low'] = fuzz.trimf(prob1.universe, [0, 0, 0.5])\n",
        "prob1['medium'] = fuzz.trimf(prob1.universe, [0.2, 0.5, 0.8])\n",
        "prob1['high'] = fuzz.trimf(prob1.universe, [0.5, 1, 1])\n",
        "\n",
        "prob2['low'] = fuzz.trimf(prob2.universe, [0, 0, 0.5])\n",
        "prob2['medium'] = fuzz.trimf(prob2.universe, [0.2, 0.5, 0.8])\n",
        "prob2['high'] = fuzz.trimf(prob2.universe, [0.5, 1, 1])\n",
        "\n",
        "confidence['low'] = fuzz.trimf(confidence.universe, [0, 0, 0.5])\n",
        "confidence['medium'] = fuzz.trimf(confidence.universe, [0.2, 0.5, 0.8])\n",
        "confidence['high'] = fuzz.trimf(confidence.universe, [0.5, 1, 1])\n",
        "\n",
        "# Define fuzzy rules\n",
        "rule1 = ctrl.Rule(prob1['high'] & prob2['low'], confidence['high'])\n",
        "rule2 = ctrl.Rule(prob1['medium'] & prob2['medium'], confidence['medium'])\n",
        "rule3 = ctrl.Rule(prob1['low'] & prob2['high'], confidence['low'])\n",
        "\n",
        "# Create and simulate fuzzy control system\n",
        "confidence_ctrl = ctrl.ControlSystem([rule1, rule2, rule3])\n",
        "confidence_sim = ctrl.ControlSystemSimulation(confidence_ctrl)\n",
        "\n",
        "# Modify prediction function\n",
        "def fuzzy_predict(predictions):\n",
        "    top_2_indices = np.argsort(predictions[0])[-2:]  # Get indices of top 2 predictions\n",
        "    top_2_probs = predictions[0][top_2_indices]\n",
        "\n",
        "    # Pass probabilities to fuzzy system\n",
        "    confidence_sim.input['prob1'] = top_2_probs[0]\n",
        "    confidence_sim.input['prob2'] = top_2_probs[1]\n",
        "    confidence_sim.compute()\n",
        "\n",
        "    # Get fuzzy confidence score\n",
        "    fuzzy_confidence = confidence_sim.output['confidence']\n",
        "\n",
        "    # Decide final prediction\n",
        "    if fuzzy_confidence > 0.7:  # High confidence threshold\n",
        "        return top_2_indices[0]  # Take highest probability class\n",
        "    elif fuzzy_confidence > 0.4:  # Medium confidence threshold\n",
        "        return f\"Ambiguous: {top_2_indices}\"  # Indicate ambiguity\n",
        "    else:\n",
        "        return top_2_indices[1]  # Take second-highest probability class\n",
        "\n",
        "# Example usage\n",
        "predictions = loaded_model.predict(img)\n",
        "result = fuzzy_predict(predictions)\n",
        "print(f\"Fuzzy Prediction: {result}\")\n"
      ],
      "metadata": {
        "colab": {
          "base_uri": "https://localhost:8080/"
        },
        "id": "X9uh9H-ERNu_",
        "outputId": "dff5f11e-72e2-47fd-e913-f9751ddbcdd1"
      },
      "execution_count": 11,
      "outputs": [
        {
          "output_type": "stream",
          "name": "stdout",
          "text": [
            "\u001b[1m1/1\u001b[0m \u001b[32m━━━━━━━━━━━━━━━━━━━━\u001b[0m\u001b[37m\u001b[0m \u001b[1m0s\u001b[0m 55ms/step\n",
            "Fuzzy Prediction: 4\n"
          ]
        }
      ]
    },
    {
      "cell_type": "code",
      "source": [],
      "metadata": {
        "id": "endNu2fGTVar"
      },
      "execution_count": null,
      "outputs": []
    }
  ]
}